{
 "cells": [
  {
   "cell_type": "code",
   "execution_count": 105,
   "metadata": {},
   "outputs": [],
   "source": [
    "import warnings\n",
    "import numpy as np\n",
    "import matplotlib.pyplot as plt\n",
    "from sklearn.linear_model import Ridge \n",
    "from sklearn.linear_model import Lasso\n",
    "from sklearn.linear_model import ElasticNet\n",
    "from sklearn.datasets import make_regression\n",
    "from sklearn.metrics import mean_squared_error\n",
    "from sklearn.linear_model import LinearRegression \n",
    "from sklearn.preprocessing import PolynomialFeatures\n",
    "\n",
    "warnings.filterwarnings(\"ignore\")"
   ]
  },
  {
   "cell_type": "code",
   "execution_count": 106,
   "metadata": {},
   "outputs": [],
   "source": [
    "np.random.seed(0)\n",
    "x_data = np.linspace(-2,2, num=25)\n",
    "y_data = np.sin(1.5 * x_data) + np.random.normal(loc=0, scale=1, size=25)"
   ]
  },
  {
   "cell_type": "code",
   "execution_count": 107,
   "metadata": {},
   "outputs": [
    {
     "data": {
      "text/plain": [
       "<matplotlib.collections.PathCollection at 0x14d76703588>"
      ]
     },
     "execution_count": 107,
     "metadata": {},
     "output_type": "execute_result"
    },
    {
     "data": {
      "image/png": "[encoded data removed]",
      "text/plain": [
       "<Figure size 432x288 with 1 Axes>"
      ]
     },
     "metadata": {
      "needs_background": "light"
     },
     "output_type": "display_data"
    }
   ],
   "source": [
    "plt.figure(figsize=(6, 4))\n",
    "plt.scatter(x_data, y_data)"
   ]
  },
  {
   "cell_type": "code",
   "execution_count": 108,
   "metadata": {},
   "outputs": [],
   "source": [
    "x_data = x_data[:, np.newaxis]\n",
    "y_data = y_data[:, np.newaxis]"
   ]
  },
  {
   "cell_type": "markdown",
   "metadata": {},
   "source": [
    "#### Model Definition starts here"
   ]
  },
  {
   "cell_type": "code",
   "execution_count": 109,
   "metadata": {},
   "outputs": [],
   "source": [
    "def _sq(w):\n",
    "    return np.sum(np.square(w))"
   ]
  },
  {
   "cell_type": "code",
   "execution_count": 110,
   "metadata": {},
   "outputs": [],
   "source": [
    "def delta(w2):\n",
    "    _w2 = _sq(w2)\n",
    "    return _w1-_w2"
   ]
  },
  {
   "cell_type": "code",
   "execution_count": 111,
   "metadata": {},
   "outputs": [],
   "source": [
    "def plot_graphs(x_data, y_data, y_poly_pred):\n",
    "    plt.scatter(x_data, y_data, s=10)\n",
    "    plt.plot(x_data, y_poly_pred, color='r')\n",
    "    plt.show()"
   ]
  },
  {
   "cell_type": "code",
   "execution_count": 112,
   "metadata": {},
   "outputs": [],
   "source": [
    "def print_stats(model, y_data, y_poly_pred):\n",
    "    rmse = np.sqrt(mean_squared_error(y_data,y_poly_pred))\n",
    "    print(\"RMSE               : {}\".format(rmse))\n",
    "    print(\"Model Intercept    : {}\".format(model.intercept_))\n",
    "    print(\"Model Coefficients : {}\".format(model.coef_))"
   ]
  },
  {
   "cell_type": "code",
   "execution_count": 113,
   "metadata": {},
   "outputs": [],
   "source": [
    "def poly_regression(Model):\n",
    "    polynomial_features= PolynomialFeatures(degree=10)\n",
    "    x_poly = polynomial_features.fit_transform(x_data)\n",
    "    model = Model\n",
    "    model.fit(x_poly, y_data)\n",
    "    y_poly_pred = model.predict(x_poly)\n",
    "    print_stats(model, y_data, y_poly_pred)\n",
    "    plot_graphs(x_data, y_data, y_poly_pred)\n",
    "    return model.coef_"
   ]
  },
  {
   "cell_type": "markdown",
   "metadata": {},
   "source": [
    "#### Model definitions end here"
   ]
  },
  {
   "cell_type": "markdown",
   "metadata": {},
   "source": [
    "### Linear Regression"
   ]
  },
  {
   "cell_type": "code",
   "execution_count": 114,
   "metadata": {},
   "outputs": [
    {
     "name": "stdout",
     "output_type": "stream",
     "text": [
      "RMSE               : 0.703158070745603\n",
      "Model Intercept    : [0.413586]\n",
      "Model Coefficients : [[  0.           1.93987824   3.45025549  -0.45388202 -10.58708106\n",
      "   -1.28841511   8.85548614   0.66734935  -2.80423691  -0.08625301\n",
      "    0.30107928]]\n"
     ]
    },
    {
     "data": {
      "image/png": "[encoded data removed]",
      "text/plain": [
       "<Figure size 432x288 with 1 Axes>"
      ]
     },
     "metadata": {
      "needs_background": "light"
     },
     "output_type": "display_data"
    }
   ],
   "source": [
    "model = LinearRegression()\n",
    "lr_weights = poly_regression(model)\n",
    "_w1 = _sq(lr_weights)"
   ]
  },
  {
   "cell_type": "markdown",
   "metadata": {},
   "source": [
    "### Ridge Regression"
   ]
  },
  {
   "cell_type": "code",
   "execution_count": 115,
   "metadata": {},
   "outputs": [
    {
     "name": "stdout",
     "output_type": "stream",
     "text": [
      "RMSE               : 0.8002129459682515\n",
      "Model Intercept    : [0.60860208]\n",
      "Model Coefficients : [[ 0.          1.41321558 -0.9238748  -0.31231298 -0.17669426 -0.77897274\n",
      "   0.90578718  0.37924268 -0.41251048 -0.04608546  0.05410688]]\n"
     ]
    },
    {
     "data": {
      "image/png": "[encoded data removed]",
      "text/plain": [
       "<Figure size 432x288 with 1 Axes>"
      ]
     },
     "metadata": {
      "needs_background": "light"
     },
     "output_type": "display_data"
    }
   ],
   "source": [
    "model = Ridge(alpha=0.5)\n",
    "r_weights = poly_regression(model)"
   ]
  },
  {
   "cell_type": "markdown",
   "metadata": {},
   "source": [
    "### Lasso Regression"
   ]
  },
  {
   "cell_type": "code",
   "execution_count": 116,
   "metadata": {},
   "outputs": [
    {
     "name": "stdout",
     "output_type": "stream",
     "text": [
      "RMSE               : 0.9311151021306889\n",
      "Model Intercept    : [0.33768628]\n",
      "Model Coefficients : [ 0.          0.69080677 -0.         -0.         -0.         -0.16267385\n",
      "  0.          0.         -0.01178311  0.00835203  0.00436309]\n"
     ]
    },
    {
     "data": {
      "image/png": "[encoded data removed]",
      "text/plain": [
       "<Figure size 432x288 with 1 Axes>"
      ]
     },
     "metadata": {
      "needs_background": "light"
     },
     "output_type": "display_data"
    }
   ],
   "source": [
    "model = Lasso(alpha=0.05)\n",
    "lasso_weights = poly_regression(model)"
   ]
  },
  {
   "cell_type": "markdown",
   "metadata": {},
   "source": [
    "### ElasticNet Regression"
   ]
  },
  {
   "cell_type": "code",
   "execution_count": 117,
   "metadata": {},
   "outputs": [
    {
     "name": "stdout",
     "output_type": "stream",
     "text": [
      "RMSE               : 0.9416021967113037\n",
      "Model Intercept    : [0.33763989]\n",
      "Model Coefficients : [ 0.          0.56473939 -0.         -0.         -0.         -0.13141523\n",
      "  0.         -0.         -0.01177167  0.00682822  0.00436018]\n"
     ]
    },
    {
     "data": {
      "image/png": "[encoded data removed]",
      "text/plain": [
       "<Figure size 432x288 with 1 Axes>"
      ]
     },
     "metadata": {
      "needs_background": "light"
     },
     "output_type": "display_data"
    }
   ],
   "source": [
    "model = ElasticNet(alpha=0.1, l1_ratio=0.5)\n",
    "en_weights = poly_regression(model)"
   ]
  },
  {
   "cell_type": "markdown",
   "metadata": {},
   "source": [
    "### Weights Comparison"
   ]
  },
  {
   "cell_type": "code",
   "execution_count": 118,
   "metadata": {},
   "outputs": [
    {
     "name": "stdout",
     "output_type": "stream",
     "text": [
      "wͲw for Linear Regression     : 216.44652102853362\n",
      "wͲw for Ridge Regression      : 4.7257734597837375\n",
      "wͲw for Lasso Regression      : 0.5039044082608664\n",
      "wͲw for ElasticNet Regression : 0.33640475302960104\n"
     ]
    }
   ],
   "source": [
    "print(\"w\\u0372w for Linear Regression     : {}\".format(_w1))\n",
    "print(\"w\\u0372w for Ridge Regression      : {}\".format(_sq(r_weights[0])))\n",
    "print(\"w\\u0372w for Lasso Regression      : {}\".format(_sq(lasso_weights)))\n",
    "print(\"w\\u0372w for ElasticNet Regression : {}\".format(_sq(en_weights)))"
   ]
  },
  {
   "cell_type": "markdown",
   "metadata": {},
   "source": [
    "### W<sup>T</sup>W(Linear) - W<sup>T</sup>W(Regularized) "
   ]
  },
  {
   "cell_type": "code",
   "execution_count": 119,
   "metadata": {},
   "outputs": [
    {
     "name": "stdout",
     "output_type": "stream",
     "text": [
      "Linear - Ridge      : 211.72074756874989\n",
      "Linear - Lasso      : 215.94261662027276\n",
      "Linear - ElasticNet : 216.11011627550403\n"
     ]
    }
   ],
   "source": [
    "print(\"Linear - Ridge      : {}\".format(delta(r_weights[0])))\n",
    "print(\"Linear - Lasso      : {}\".format(delta(lasso_weights)))\n",
    "print(\"Linear - ElasticNet : {}\".format(delta(en_weights)))"
   ]
  }
 ],
 "metadata": {
  "kernelspec": {
   "display_name": "Python 3",
   "language": "python",
   "name": "python3"
  },
  "language_info": {
   "codemirror_mode": {
    "name": "ipython",
    "version": 3
   },
   "file_extension": ".py",
   "mimetype": "text/x-python",
   "name": "python",
   "nbconvert_exporter": "python",
   "pygments_lexer": "ipython3",
   "version": "3.7.3"
  }
 },
 "nbformat": 4,
 "nbformat_minor": 4
}
